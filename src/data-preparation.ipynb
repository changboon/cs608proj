{
 "cells": [
  {
   "cell_type": "code",
   "execution_count": 4,
   "metadata": {},
   "outputs": [
    {
     "name": "stdout",
     "output_type": "stream",
     "text": [
      "The autoreload extension is already loaded. To reload it, use:\n",
      "  %reload_ext autoreload\n"
     ]
    }
   ],
   "source": [
    "%load_ext autoreload\n",
    "%autoreload 2\n",
    "\n",
    "import crud as crud"
   ]
  },
  {
   "cell_type": "code",
   "execution_count": 18,
   "metadata": {},
   "outputs": [
    {
     "name": "stdout",
     "output_type": "stream",
     "text": [
      "songs\n",
      "             track_id              title             song_id   ...    track_7digitalid shs_perf shs_work\n",
      "0  TRMMMYQ128F932D901       Silent Night  SOQMMHC12AB0180CB8   ...             7032331       -1        0\n",
      "1  TRMMMKD128F425225D        Tanssi vaan  SOVFVAK12A8C1350D9   ...             1514808       -1        0\n",
      "2  TRMMMRX128F93187D9  No One Could Ever  SOGTUKN12AB017F4F1   ...             6945353       -1        0\n",
      "3  TRMMMCH128F425532C      Si Vos Querés  SOBNYVR12A8C13558C   ...             2168257       -1        0\n",
      "4  TRMMMWA128F426B589   Tangle Of Aspens  SOHSBXH12A8C13B0DF   ...             2264873       -1        0\n",
      "\n",
      "[5 rows x 14 columns]\n"
     ]
    }
   ],
   "source": [
    "conn = crud.create_connection(\"../db/track_metadata.db\")\n",
    "tables = crud.get_tables(conn)\n",
    "\n",
    "for table_name in tables.name.tolist():\n",
    "    print(table_name)\n",
    "    records = crud.get_records(conn, table_name, 100)\n",
    "    print(records.head())"
   ]
  },
  {
   "cell_type": "code",
   "execution_count": 19,
   "metadata": {},
   "outputs": [
    {
     "name": "stdout",
     "output_type": "stream",
     "text": [
      "artists\n",
      "            artist_id\n",
      "0  AR002UA1187B9A637D\n",
      "1  AR003FB1187B994355\n",
      "2  AR006821187FB5192B\n",
      "3  AR009211187B989185\n",
      "4  AR009SZ1187B9A73F4\n",
      "similarity\n",
      "               target             similar\n",
      "0  AR002UA1187B9A637D  ARQDOR81187FB3B06C\n",
      "1  AR002UA1187B9A637D  AROHMXJ1187B989023\n",
      "2  AR002UA1187B9A637D  ARAGWVR1187B9B749B\n",
      "3  AR002UA1187B9A637D  AREQVWS1241B9CC0A4\n",
      "4  AR002UA1187B9A637D  ARHBE351187FB3B0CD\n"
     ]
    }
   ],
   "source": [
    "conn = crud.create_connection(\"../db/artist_similarity.db\")\n",
    "tables = crud.get_tables(conn)\n",
    "\n",
    "for table_name in tables.name.tolist():\n",
    "    print(table_name)\n",
    "    records = crud.get_records(conn, table_name, 100)\n",
    "    print(records.head())"
   ]
  },
  {
   "cell_type": "code",
   "execution_count": 20,
   "metadata": {},
   "outputs": [
    {
     "name": "stdout",
     "output_type": "stream",
     "text": [
      "artists\n",
      "            artist_id\n",
      "0  AR002UA1187B9A637D\n",
      "1  AR003FB1187B994355\n",
      "2  AR006821187FB5192B\n",
      "3  AR009211187B989185\n",
      "4  AR009SZ1187B9A73F4\n",
      "terms\n",
      "              term\n",
      "0              00s\n",
      "1  00s alternative\n",
      "2      00s country\n",
      "3        00s indie\n",
      "4          00s pop\n",
      "artist_term\n",
      "            artist_id          term\n",
      "0  AR002UA1187B9A637D   garage rock\n",
      "1  AR002UA1187B9A637D  country rock\n",
      "2  AR002UA1187B9A637D     free jazz\n",
      "3  AR002UA1187B9A637D            oi\n",
      "4  AR002UA1187B9A637D    space rock\n",
      "mbtags\n",
      "                                               mbtag\n",
      "0                                                00s\n",
      "1                                            00s 10s\n",
      "2  1 13 165900 150 7672 22647 34612 48720 59280 7...\n",
      "3  1 7 186240 183 23558 41608 89158 111733 150833...\n",
      "4                                                10s\n",
      "artist_mbtag\n",
      "            artist_id        mbtag\n",
      "0  AR002UA1187B9A637D           uk\n",
      "1  AR002UA1187B9A637D         rock\n",
      "2  AR002UA1187B9A637D  garage rock\n",
      "3  AR006821187FB5192B         bass\n",
      "4  AR00A6H1187FB5402A      detroit\n"
     ]
    }
   ],
   "source": [
    "conn = crud.create_connection(\"../db/artist_term.db\")\n",
    "tables = crud.get_tables(conn)\n",
    "\n",
    "for table_name in tables.name.tolist():\n",
    "    print(table_name)\n",
    "    records = crud.get_records(conn, table_name, 100)\n",
    "    print(records.head())"
   ]
  },
  {
   "cell_type": "code",
   "execution_count": 22,
   "metadata": {},
   "outputs": [
    {
     "name": "stdout",
     "output_type": "stream",
     "text": [
      "similars_src\n",
      "  ...\n",
      "0 ...\n",
      "1 ...\n",
      "2 ...\n",
      "3 ...\n",
      "4 ...\n",
      "\n",
      "[5 rows x 2 columns]\n",
      "similars_dest_tmp\n",
      "Empty DataFrame\n",
      "Columns: [tid1, tid2, val]\n",
      "Index: []\n",
      "similars_dest\n",
      "  ...\n",
      "0 ...\n",
      "1 ...\n",
      "2 ...\n",
      "3 ...\n",
      "4 ...\n",
      "\n",
      "[5 rows x 2 columns]\n"
     ]
    }
   ],
   "source": [
    "conn = crud.create_connection(\"../db/lastfm_similars.db\")\n",
    "tables = crud.get_tables(conn)\n",
    "\n",
    "for table_name in tables.name.tolist():\n",
    "    print(table_name)\n",
    "    records = crud.get_records(conn, table_name, 100)\n",
    "    print(records.head())"
   ]
  },
  {
   "cell_type": "code",
   "execution_count": 23,
   "metadata": {},
   "outputs": [
    {
     "name": "stdout",
     "output_type": "stream",
     "text": [
      "tags\n",
      "                tag\n",
      "0      classic rock\n",
      "1  Progressive rock\n",
      "2             blues\n",
      "3      memphis slim\n",
      "4               pop\n",
      "tids\n",
      "                  tid\n",
      "0  TRCCCYE12903CFF0E9\n",
      "1  TRCCCFH12903CEBC70\n",
      "2  TRCCCJT128F429FFF6\n",
      "3  TRCCCBJ128F4286E6F\n",
      "4  TRCCJTI128EF35394A\n",
      "tid_tag\n",
      "   tid  tag    val\n",
      "0    1    1  100.0\n",
      "1    1    2  100.0\n",
      "2    2    3  100.0\n",
      "3    2    4  100.0\n",
      "4    3    5  100.0\n"
     ]
    }
   ],
   "source": [
    "conn = crud.create_connection(\"../db/lastfm_tags.db\")\n",
    "tables = crud.get_tables(conn)\n",
    "\n",
    "for table_name in tables.name.tolist():\n",
    "    print(table_name)\n",
    "    records = crud.get_records(conn, table_name, 100)\n",
    "    print(records.head())"
   ]
  },
  {
   "cell_type": "code",
   "execution_count": null,
   "metadata": {},
   "outputs": [],
   "source": [
    "conn = crud.create_connection(\"../db/\")\n",
    "tables = crud.get_tables(conn)\n",
    "\n",
    "for table_name in tables.name.tolist():\n",
    "    print(table_name)\n",
    "    records = crud.get_records(conn, table_name, 100)\n",
    "    print(records.head())"
   ]
  }
 ],
 "metadata": {
  "kernelspec": {
   "display_name": "Python 3",
   "language": "python",
   "name": "python3"
  },
  "language_info": {
   "codemirror_mode": {
    "name": "ipython",
    "version": 3
   },
   "file_extension": ".py",
   "mimetype": "text/x-python",
   "name": "python",
   "nbconvert_exporter": "python",
   "pygments_lexer": "ipython3",
   "version": "3.6.10"
  }
 },
 "nbformat": 4,
 "nbformat_minor": 4
}
