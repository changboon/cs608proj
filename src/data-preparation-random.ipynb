{
 "cells": [
  {
   "cell_type": "code",
   "execution_count": 1,
   "metadata": {},
   "outputs": [],
   "source": [
    "%load_ext autoreload\n",
    "%autoreload 2\n",
    "\n",
    "import crud as crud\n",
    "import pandas as pd\n",
    "import matplotlib\n",
    "\n",
    "from sklearn.model_selection import train_test_split\n",
    "\n",
    "import cornac\n",
    "from cornac.data import Reader\n",
    "from cornac.eval_methods import BaseMethod, RatioSplit\n",
    "from cornac.models import BPR, WMF"
   ]
  },
  {
   "cell_type": "code",
   "execution_count": 2,
   "metadata": {},
   "outputs": [],
   "source": [
    "triplets = pd.read_csv('../data/train_triplets.txt', sep=\"\\t\", header=None)\n",
    "triplets.columns=['user_id', 'song_id', 'play_count']"
   ]
  },
  {
   "cell_type": "code",
   "execution_count": 3,
   "metadata": {},
   "outputs": [],
   "source": [
    "MIN_PLAYCOUNT = 5\n",
    "MAX_PLAYCOUNT = 150\n",
    "MIN_RATING = 50\n",
    "SEED = 2020\n",
    "TEST_RATIO = 0.33\n",
    "\n",
    "triplets = triplets[(triplets['play_count'] >= MIN_PLAYCOUNT) & (triplets['play_count'] <= MAX_PLAYCOUNT)]\n",
    "grouped = triplets.groupby('song_id')\n",
    "triplets = grouped.filter(lambda x: x[\"user_id\"].nunique() >= MIN_RATING)\n",
    "triplets['user_id_idx'] = triplets.groupby('user_id').ngroup()\n",
    "triplets['song_id_idx'] = triplets.groupby('song_id').ngroup()"
   ]
  },
  {
   "cell_type": "code",
   "execution_count": 4,
   "metadata": {},
   "outputs": [
    {
     "data": {
      "text/plain": [
       "(5543028, 5)"
      ]
     },
     "execution_count": 4,
     "metadata": {},
     "output_type": "execute_result"
    }
   ],
   "source": [
    "triplets.shape"
   ]
  },
  {
   "cell_type": "code",
   "execution_count": 5,
   "metadata": {},
   "outputs": [
    {
     "data": {
      "text/html": [
       "<div>\n",
       "<style scoped>\n",
       "    .dataframe tbody tr th:only-of-type {\n",
       "        vertical-align: middle;\n",
       "    }\n",
       "\n",
       "    .dataframe tbody tr th {\n",
       "        vertical-align: top;\n",
       "    }\n",
       "\n",
       "    .dataframe thead th {\n",
       "        text-align: right;\n",
       "    }\n",
       "</style>\n",
       "<table border=\"1\" class=\"dataframe\">\n",
       "  <thead>\n",
       "    <tr style=\"text-align: right;\">\n",
       "      <th></th>\n",
       "      <th>user_id</th>\n",
       "      <th>song_id</th>\n",
       "      <th>play_count</th>\n",
       "      <th>user_id_idx</th>\n",
       "      <th>song_id_idx</th>\n",
       "    </tr>\n",
       "  </thead>\n",
       "  <tbody>\n",
       "    <tr>\n",
       "      <th>13</th>\n",
       "      <td>b80344d063b5ccb3212f76538f3d9e43d87dca9e</td>\n",
       "      <td>SODDNQT12A6D4F5F7E</td>\n",
       "      <td>5</td>\n",
       "      <td>525259</td>\n",
       "      <td>3040</td>\n",
       "    </tr>\n",
       "    <tr>\n",
       "      <th>33</th>\n",
       "      <td>b80344d063b5ccb3212f76538f3d9e43d87dca9e</td>\n",
       "      <td>SOIZAZL12A6701C53B</td>\n",
       "      <td>5</td>\n",
       "      <td>525259</td>\n",
       "      <td>8630</td>\n",
       "    </tr>\n",
       "    <tr>\n",
       "      <th>37</th>\n",
       "      <td>b80344d063b5ccb3212f76538f3d9e43d87dca9e</td>\n",
       "      <td>SOKRIMP12A6D4F5DA3</td>\n",
       "      <td>5</td>\n",
       "      <td>525259</td>\n",
       "      <td>10250</td>\n",
       "    </tr>\n",
       "    <tr>\n",
       "      <th>45</th>\n",
       "      <td>b80344d063b5ccb3212f76538f3d9e43d87dca9e</td>\n",
       "      <td>SOMGIYR12AB0187973</td>\n",
       "      <td>6</td>\n",
       "      <td>525259</td>\n",
       "      <td>11729</td>\n",
       "    </tr>\n",
       "    <tr>\n",
       "      <th>48</th>\n",
       "      <td>b80344d063b5ccb3212f76538f3d9e43d87dca9e</td>\n",
       "      <td>SOMZWUW12A8C1400BC</td>\n",
       "      <td>6</td>\n",
       "      <td>525259</td>\n",
       "      <td>12443</td>\n",
       "    </tr>\n",
       "  </tbody>\n",
       "</table>\n",
       "</div>"
      ],
      "text/plain": [
       "                                     user_id             song_id  play_count  \\\n",
       "13  b80344d063b5ccb3212f76538f3d9e43d87dca9e  SODDNQT12A6D4F5F7E           5   \n",
       "33  b80344d063b5ccb3212f76538f3d9e43d87dca9e  SOIZAZL12A6701C53B           5   \n",
       "37  b80344d063b5ccb3212f76538f3d9e43d87dca9e  SOKRIMP12A6D4F5DA3           5   \n",
       "45  b80344d063b5ccb3212f76538f3d9e43d87dca9e  SOMGIYR12AB0187973           6   \n",
       "48  b80344d063b5ccb3212f76538f3d9e43d87dca9e  SOMZWUW12A8C1400BC           6   \n",
       "\n",
       "    user_id_idx  song_id_idx  \n",
       "13       525259         3040  \n",
       "33       525259         8630  \n",
       "37       525259        10250  \n",
       "45       525259        11729  \n",
       "48       525259        12443  "
      ]
     },
     "execution_count": 5,
     "metadata": {},
     "output_type": "execute_result"
    }
   ],
   "source": [
    "triplets.head()"
   ]
  },
  {
   "cell_type": "code",
   "execution_count": 6,
   "metadata": {},
   "outputs": [
    {
     "data": {
      "text/html": [
       "<div>\n",
       "<style scoped>\n",
       "    .dataframe tbody tr th:only-of-type {\n",
       "        vertical-align: middle;\n",
       "    }\n",
       "\n",
       "    .dataframe tbody tr th {\n",
       "        vertical-align: top;\n",
       "    }\n",
       "\n",
       "    .dataframe thead th {\n",
       "        text-align: right;\n",
       "    }\n",
       "</style>\n",
       "<table border=\"1\" class=\"dataframe\">\n",
       "  <thead>\n",
       "    <tr style=\"text-align: right;\">\n",
       "      <th></th>\n",
       "      <th>play_count</th>\n",
       "      <th>user_id_idx</th>\n",
       "      <th>song_id_idx</th>\n",
       "    </tr>\n",
       "  </thead>\n",
       "  <tbody>\n",
       "    <tr>\n",
       "      <th>count</th>\n",
       "      <td>5.543028e+06</td>\n",
       "      <td>5.543028e+06</td>\n",
       "      <td>5.543028e+06</td>\n",
       "    </tr>\n",
       "    <tr>\n",
       "      <th>mean</th>\n",
       "      <td>1.082329e+01</td>\n",
       "      <td>3.658579e+05</td>\n",
       "      <td>1.193348e+04</td>\n",
       "    </tr>\n",
       "    <tr>\n",
       "      <th>std</th>\n",
       "      <td>1.070655e+01</td>\n",
       "      <td>2.110603e+05</td>\n",
       "      <td>6.933504e+03</td>\n",
       "    </tr>\n",
       "    <tr>\n",
       "      <th>min</th>\n",
       "      <td>5.000000e+00</td>\n",
       "      <td>0.000000e+00</td>\n",
       "      <td>0.000000e+00</td>\n",
       "    </tr>\n",
       "    <tr>\n",
       "      <th>25%</th>\n",
       "      <td>5.000000e+00</td>\n",
       "      <td>1.831970e+05</td>\n",
       "      <td>5.840000e+03</td>\n",
       "    </tr>\n",
       "    <tr>\n",
       "      <th>50%</th>\n",
       "      <td>7.000000e+00</td>\n",
       "      <td>3.657390e+05</td>\n",
       "      <td>1.213400e+04</td>\n",
       "    </tr>\n",
       "    <tr>\n",
       "      <th>75%</th>\n",
       "      <td>1.200000e+01</td>\n",
       "      <td>5.485290e+05</td>\n",
       "      <td>1.795400e+04</td>\n",
       "    </tr>\n",
       "    <tr>\n",
       "      <th>max</th>\n",
       "      <td>1.500000e+02</td>\n",
       "      <td>7.309530e+05</td>\n",
       "      <td>2.393900e+04</td>\n",
       "    </tr>\n",
       "  </tbody>\n",
       "</table>\n",
       "</div>"
      ],
      "text/plain": [
       "         play_count   user_id_idx   song_id_idx\n",
       "count  5.543028e+06  5.543028e+06  5.543028e+06\n",
       "mean   1.082329e+01  3.658579e+05  1.193348e+04\n",
       "std    1.070655e+01  2.110603e+05  6.933504e+03\n",
       "min    5.000000e+00  0.000000e+00  0.000000e+00\n",
       "25%    5.000000e+00  1.831970e+05  5.840000e+03\n",
       "50%    7.000000e+00  3.657390e+05  1.213400e+04\n",
       "75%    1.200000e+01  5.485290e+05  1.795400e+04\n",
       "max    1.500000e+02  7.309530e+05  2.393900e+04"
      ]
     },
     "execution_count": 6,
     "metadata": {},
     "output_type": "execute_result"
    }
   ],
   "source": [
    "triplets.describe()"
   ]
  },
  {
   "cell_type": "code",
   "execution_count": 7,
   "metadata": {},
   "outputs": [],
   "source": [
    "train, test = train_test_split(triplets, test_size=TEST_RATIO, shuffle=True, random_state=SEED)\n",
    "train_triplets = pd.DataFrame(train, columns=[\"user_id\", \"song_id\", \"play_count\", \"user_id_idx\", \"song_id_idx\"])\n",
    "test_triplets = pd.DataFrame(test, columns=[\"user_id\", \"song_id\", \"play_count\", \"user_id_idx\", \"song_id_idx\"])"
   ]
  },
  {
   "cell_type": "code",
   "execution_count": 8,
   "metadata": {},
   "outputs": [],
   "source": [
    "from pathlib import Path\n",
    "\n",
    "output_dir = Path('../experiments/triplets')\n",
    "output_dir.mkdir(parents=True, exist_ok=True)\n",
    "\n",
    "train_triplets.to_csv(output_dir / \"train.csv\", index=False)\n",
    "test_triplets.to_csv(output_dir / \"test.csv\", index=False)"
   ]
  },
  {
   "cell_type": "code",
   "execution_count": 27,
   "metadata": {},
   "outputs": [
    {
     "name": "stdout",
     "output_type": "stream",
     "text": [
      "(3713828, 5)\n",
      "(1829200, 5)\n"
     ]
    },
    {
     "ename": "IndexError",
     "evalue": "tuple index out of range",
     "output_type": "error",
     "traceback": [
      "\u001b[1;31m---------------------------------------------------------------------------\u001b[0m",
      "\u001b[1;31mIndexError\u001b[0m                                Traceback (most recent call last)",
      "\u001b[1;32m<ipython-input-27-64f185a95af6>\u001b[0m in \u001b[0;36m<module>\u001b[1;34m\u001b[0m\n\u001b[0;32m     29\u001b[0m \u001b[1;32mwith\u001b[0m \u001b[0mopen\u001b[0m\u001b[1;33m(\u001b[0m\u001b[0moutput_dir\u001b[0m \u001b[1;33m/\u001b[0m \u001b[1;34m\"train.libfm\"\u001b[0m\u001b[1;33m,\u001b[0m \u001b[1;34m\"w\"\u001b[0m\u001b[1;33m)\u001b[0m \u001b[1;32mas\u001b[0m \u001b[0mf\u001b[0m\u001b[1;33m:\u001b[0m\u001b[1;33m\u001b[0m\u001b[1;33m\u001b[0m\u001b[0m\n\u001b[0;32m     30\u001b[0m     \u001b[1;32mfor\u001b[0m \u001b[0mrating\u001b[0m\u001b[1;33m,\u001b[0m \u001b[0muid\u001b[0m\u001b[1;33m,\u001b[0m \u001b[0msid\u001b[0m\u001b[1;33m,\u001b[0m \u001b[1;33m*\u001b[0m\u001b[0m_\u001b[0m \u001b[1;32min\u001b[0m \u001b[0mtrain_df\u001b[0m\u001b[1;33m[\u001b[0m\u001b[0mmeta_columns\u001b[0m\u001b[1;33m]\u001b[0m\u001b[1;33m.\u001b[0m\u001b[0mitertuples\u001b[0m\u001b[1;33m(\u001b[0m\u001b[0mindex\u001b[0m\u001b[1;33m=\u001b[0m\u001b[1;32mFalse\u001b[0m\u001b[1;33m)\u001b[0m\u001b[1;33m:\u001b[0m\u001b[1;33m\u001b[0m\u001b[1;33m\u001b[0m\u001b[0m\n\u001b[1;32m---> 31\u001b[1;33m         \u001b[0mf\u001b[0m\u001b[1;33m.\u001b[0m\u001b[0mwrite\u001b[0m\u001b[1;33m(\u001b[0m\u001b[0mto_fm_sparse_fmt\u001b[0m\u001b[1;33m(\u001b[0m\u001b[0mrating\u001b[0m\u001b[1;33m,\u001b[0m \u001b[0muid\u001b[0m\u001b[1;33m,\u001b[0m \u001b[0msid\u001b[0m\u001b[1;33m)\u001b[0m\u001b[1;33m)\u001b[0m\u001b[1;33m\u001b[0m\u001b[1;33m\u001b[0m\u001b[0m\n\u001b[0m\u001b[0;32m     32\u001b[0m \u001b[1;33m\u001b[0m\u001b[0m\n\u001b[0;32m     33\u001b[0m \u001b[1;31m# save test data to file\u001b[0m\u001b[1;33m\u001b[0m\u001b[1;33m\u001b[0m\u001b[1;33m\u001b[0m\u001b[0m\n",
      "\u001b[1;32m<ipython-input-27-64f185a95af6>\u001b[0m in \u001b[0;36mto_fm_sparse_fmt\u001b[1;34m(rating, uid, sid)\u001b[0m\n\u001b[0;32m      9\u001b[0m         \u001b[0mrating\u001b[0m\u001b[1;33m,\u001b[0m\u001b[1;33m\u001b[0m\u001b[1;33m\u001b[0m\u001b[0m\n\u001b[0;32m     10\u001b[0m         \u001b[0muid\u001b[0m\u001b[1;33m,\u001b[0m\u001b[1;33m\u001b[0m\u001b[1;33m\u001b[0m\u001b[0m\n\u001b[1;32m---> 11\u001b[1;33m         \u001b[0msid\u001b[0m \u001b[1;33m+\u001b[0m \u001b[0msong_start_idx\u001b[0m\u001b[1;33m\u001b[0m\u001b[1;33m\u001b[0m\u001b[0m\n\u001b[0m\u001b[0;32m     12\u001b[0m     )\n\u001b[0;32m     13\u001b[0m \u001b[1;33m\u001b[0m\u001b[0m\n",
      "\u001b[1;31mIndexError\u001b[0m: tuple index out of range"
     ]
    }
   ],
   "source": [
    "from pathlib import Path\n",
    "\n",
    "def to_fm_sparse_fmt(rating, uid, sid):\n",
    "  # order of features: user, movie, tags\n",
    "    user_start_idx = 0\n",
    "    song_start_idx = n_users\n",
    "    \n",
    "    return \"{} {}:1 {}:1 {}:{} {}:{} {}:{}\\n\".format(\n",
    "        rating,\n",
    "        uid,\n",
    "        sid + song_start_idx\n",
    "    )\n",
    "\n",
    "output_dir = Path('../experiments/triplets')\n",
    "output_dir.mkdir(parents=True, exist_ok=True)\n",
    "\n",
    "meta_columns = ['play_count', 'user_id_idx', 'song_id_idx']\n",
    "\n",
    "train_df = (\n",
    "    train_triplets\n",
    ")\n",
    "print(train_df.shape)\n",
    "test_df = (\n",
    "    test_triplets\n",
    ")\n",
    "print(test_df.shape)\n",
    "\n",
    "# save training data to file\n",
    "with open(output_dir / \"train.libfm\", \"w\") as f:\n",
    "    for rating, uid, sid, *_ in train_df[meta_columns].itertuples(index=False):\n",
    "        f.write(to_fm_sparse_fmt(rating, uid, sid))\n",
    "\n",
    "# save test data to file\n",
    "with open(output_dir / \"test.libfm\", \"w\") as f:\n",
    "    for rating, uid, sid, *_ in test_df[meta_columns].itertuples(index=False):\n",
    "        f.write(to_fm_sparse_fmt(rating, uid, sid))"
   ]
  },
  {
   "cell_type": "code",
   "execution_count": 9,
   "metadata": {},
   "outputs": [
    {
     "name": "stdout",
     "output_type": "stream",
     "text": [
      "songs\n"
     ]
    }
   ],
   "source": [
    "conn = crud.create_connection(\"../db/track_metadata.db\")\n",
    "tables = crud.get_tables(conn)\n",
    "\n",
    "for table_name in tables.name.tolist():\n",
    "    print(table_name)\n",
    "    records = crud.get_records(conn, table_name)\n",
    "    #print(records.head())"
   ]
  },
  {
   "cell_type": "code",
   "execution_count": 10,
   "metadata": {},
   "outputs": [
    {
     "data": {
      "text/plain": [
       "(1000000, 3)"
      ]
     },
     "execution_count": 10,
     "metadata": {},
     "output_type": "execute_result"
    }
   ],
   "source": [
    "tracks = records[['track_id', 'title', 'song_id']]\n",
    "tracks.to_csv('./tracks.csv', index=False)\n",
    "tracks.shape"
   ]
  },
  {
   "cell_type": "code",
   "execution_count": 11,
   "metadata": {},
   "outputs": [
    {
     "data": {
      "text/plain": [
       "(999056, 5)"
      ]
     },
     "execution_count": 11,
     "metadata": {},
     "output_type": "execute_result"
    }
   ],
   "source": [
    "records_columns = ['song_id', 'artist_id', 'duration', 'artist_familiarity', 'artist_hotttnesss']\n",
    "songs = records[records_columns].groupby(['song_id', 'artist_id']).mean().reset_index()\n",
    "songs.shape"
   ]
  },
  {
   "cell_type": "code",
   "execution_count": 12,
   "metadata": {},
   "outputs": [],
   "source": [
    "n_users = triplets.user_id.nunique()\n",
    "n_songs = triplets.song_id.nunique()"
   ]
  },
  {
   "cell_type": "code",
   "execution_count": 13,
   "metadata": {},
   "outputs": [
    {
     "name": "stdout",
     "output_type": "stream",
     "text": [
      "(3713828, 8)\n",
      "(1829200, 8)\n"
     ]
    }
   ],
   "source": [
    "from pathlib import Path\n",
    "\n",
    "def to_fm_sparse_fmt(rating, uid, sid, duration, familiarity, hotness):\n",
    "  # order of features: user, movie, tags\n",
    "    user_start_idx = 0\n",
    "    song_start_idx = n_users\n",
    "    duration_start_idx = song_start_idx + n_songs\n",
    "    familiarity_start_idx = duration_start_idx + 1\n",
    "    hotness_start_idx = familiarity_start_idx + 1\n",
    "    \n",
    "    return \"{} {}:1 {}:1 {}:{} {}:{} {}:{}\\n\".format(\n",
    "        rating,\n",
    "        uid,\n",
    "        sid + song_start_idx, \n",
    "        duration_start_idx, duration,\n",
    "        familiarity_start_idx, familiarity,\n",
    "        hotness_start_idx, hotness\n",
    "    )\n",
    "\n",
    "output_dir = Path('../experiments/metadata')\n",
    "output_dir.mkdir(parents=True, exist_ok=True)\n",
    "\n",
    "meta_columns = ['play_count', 'user_id_idx', 'song_id_idx', 'duration', 'artist_familiarity', 'artist_hotttnesss']\n",
    "\n",
    "train_df = (\n",
    "    train_triplets\n",
    "    .merge(songs.drop(columns=['artist_id']), on='song_id')\n",
    ")\n",
    "print(train_df.shape)\n",
    "test_df = (\n",
    "    test_triplets\n",
    "    .merge(songs.drop(columns=['artist_id']), on='song_id')\n",
    ")\n",
    "print(test_df.shape)\n",
    "\n",
    "# save training data to file\n",
    "with open(output_dir / \"train.libfm\", \"w\") as f:\n",
    "    for rating, uid, sid, duration, familiarity, hotness, *_ in train_df[meta_columns].itertuples(index=False):\n",
    "        f.write(to_fm_sparse_fmt(rating, uid, sid, duration, familiarity, hotness))\n",
    "\n",
    "# save test data to file\n",
    "with open(output_dir / \"test.libfm\", \"w\") as f:\n",
    "    for rating, uid, sid, duration, familiarity, hotness, *_ in test_df[meta_columns].itertuples(index=False):\n",
    "        f.write(to_fm_sparse_fmt(rating, uid, sid, duration, familiarity, hotness))"
   ]
  },
  {
   "cell_type": "code",
   "execution_count": 14,
   "metadata": {},
   "outputs": [
    {
     "name": "stdout",
     "output_type": "stream",
     "text": [
      "artists\n",
      "(44745, 1)\n",
      "terms\n",
      "(7643, 1)\n",
      "artist_term\n",
      "(1109381, 2)\n"
     ]
    }
   ],
   "source": [
    "conn = crud.create_connection(\"../db/artist_term.db\")\n",
    "tables = crud.get_tables(conn)\n",
    "\n",
    "for table_name in tables.name.tolist():\n",
    "    print(table_name)\n",
    "    records = crud.get_records(conn, table_name)\n",
    "    print(records.shape)\n",
    "    if table_name == \"artist_term\":\n",
    "        break"
   ]
  },
  {
   "cell_type": "code",
   "execution_count": 15,
   "metadata": {},
   "outputs": [
    {
     "data": {
      "text/plain": [
       "(43943, 2)"
      ]
     },
     "execution_count": 15,
     "metadata": {},
     "output_type": "execute_result"
    }
   ],
   "source": [
    "artist_term = records\n",
    "artist_term['term_id'] = artist_term.groupby('term').ngroup()\n",
    "n_terms = artist_term.term_id.max()\n",
    "artist_term_lookup = artist_term[['artist_id', 'term_id']].drop_duplicates()\n",
    "artist_term_lookup.to_csv(\"./artist_term_lookup.csv\", index=False)\n",
    "artist_term = artist_term[['artist_id', 'term_id']].groupby('artist_id').agg(list).reset_index()\n",
    "artist_term.to_csv(\"./artist_term.csv\", index=False)\n",
    "artist_term.shape"
   ]
  },
  {
   "cell_type": "code",
   "execution_count": 16,
   "metadata": {},
   "outputs": [
    {
     "name": "stdout",
     "output_type": "stream",
     "text": [
      "(3694687, 9)\n",
      "(1819749, 9)\n"
     ]
    }
   ],
   "source": [
    "from pathlib import Path\n",
    "\n",
    "def to_fm_sparse_fmt(rating, uid, sid, duration, familiarity, hotness, terms):\n",
    "  # order of features: user, movie, tags\n",
    "    user_start_idx = 0\n",
    "    song_start_idx = n_users\n",
    "    duration_start_idx = song_start_idx + n_songs\n",
    "    familiarity_start_idx = duration_start_idx + 1\n",
    "    hotness_start_idx = familiarity_start_idx + 1\n",
    "    artist_term_start_idx = hotness_start_idx + 1\n",
    "    \n",
    "    return \"{} {}:1 {}:1 {}:{} {}:{} {}:{} {}\\n\".format(\n",
    "        rating,\n",
    "        uid,\n",
    "        sid + song_start_idx,\n",
    "        duration_start_idx, duration,\n",
    "        familiarity_start_idx, familiarity,\n",
    "        hotness_start_idx, hotness,\n",
    "        \" \".join(\"{}:1\".format(t + artist_term_start_idx) for t in terms)\n",
    "    )\n",
    "\n",
    "output_dir = Path('../experiments/metadata_artist')\n",
    "output_dir.mkdir(parents=True, exist_ok=True)\n",
    "\n",
    "meta_columns = ['play_count', 'user_id_idx', 'song_id_idx', 'duration', 'artist_familiarity', 'artist_hotttnesss', 'term_id']\n",
    "\n",
    "train_df = (\n",
    "    train_triplets\n",
    "    .merge(songs, on='song_id')\n",
    "    .merge(artist_term, on=\"artist_id\")\n",
    "    .drop(columns=['artist_id'])\n",
    ")\n",
    "print(train_df.shape)\n",
    "test_df = (\n",
    "    test_triplets\n",
    "    .merge(songs, on='song_id')\n",
    "    .merge(artist_term, on=\"artist_id\")\n",
    "    .drop(columns=['artist_id'])\n",
    ")\n",
    "print(test_df.shape)\n",
    "\n",
    "# save training data to file\n",
    "with open(output_dir / \"train.libfm\", \"w\") as f:\n",
    "    for rating, uid, sid, duration, familiarity, hotness, terms, *_ in train_df[meta_columns].itertuples(index=False):\n",
    "        f.write(to_fm_sparse_fmt(rating, uid, sid, duration, familiarity, hotness, terms))\n",
    "\n",
    "# save test data to file\n",
    "with open(output_dir / \"test.libfm\", \"w\") as f:\n",
    "    for rating, uid, sid, duration, familiarity, hotness, terms, *_ in test_df[meta_columns].itertuples(index=False):\n",
    "        f.write(to_fm_sparse_fmt(rating, uid, sid, duration, familiarity, hotness, terms))"
   ]
  },
  {
   "cell_type": "code",
   "execution_count": 17,
   "metadata": {},
   "outputs": [
    {
     "name": "stdout",
     "output_type": "stream",
     "text": [
      "words\n",
      "(5000, 1)\n",
      "lyrics\n",
      "(19045332, 5)\n"
     ]
    }
   ],
   "source": [
    "conn = crud.create_connection(\"../db/mxm_dataset.db\")\n",
    "tables = crud.get_tables(conn)\n",
    "\n",
    "for table_name in tables.name.tolist():\n",
    "    print(table_name)\n",
    "    records = crud.get_records(conn, table_name)\n",
    "    print(records.shape)"
   ]
  },
  {
   "cell_type": "code",
   "execution_count": 18,
   "metadata": {},
   "outputs": [
    {
     "data": {
      "text/plain": [
       "(237662, 2)"
      ]
     },
     "execution_count": 18,
     "metadata": {},
     "output_type": "execute_result"
    }
   ],
   "source": [
    "lyrics = records \n",
    "lyrics['word_id'] = lyrics.groupby('word').ngroup()\n",
    "n_lyrics = lyrics.word_id.max()\n",
    "lyrics_word_lookup = lyrics[['word_id', 'word']].drop_duplicates()\n",
    "lyrics_word_lookup.to_csv(\"./lyrics_word_lookup.csv\", index=False)\n",
    "lyrics = lyrics.merge(tracks[['track_id', 'song_id']], on='track_id')[['song_id', 'word_id', 'count']].drop_duplicates()\n",
    "lyrics = lyrics.groupby('song_id')[['word_id', 'count']].apply(lambda g: g.values.tolist()).reset_index()\n",
    "lyrics.columns = ['song_id', 'lyrics']\n",
    "lyrics.to_csv(\"./lyrics.csv\", index=False)\n",
    "lyrics.shape"
   ]
  },
  {
   "cell_type": "code",
   "execution_count": 19,
   "metadata": {},
   "outputs": [
    {
     "name": "stdout",
     "output_type": "stream",
     "text": [
      "(1936334, 9)\n",
      "(953047, 9)\n"
     ]
    }
   ],
   "source": [
    "from pathlib import Path\n",
    "\n",
    "def to_fm_sparse_fmt(rating, uid, sid, duration, familiarity, hotness, lyric):\n",
    "  # order of features: user, movie, tags\n",
    "    user_start_idx = 0\n",
    "    song_start_idx = n_users\n",
    "    duration_start_idx = song_start_idx + n_songs\n",
    "    familiarity_start_idx = duration_start_idx + 1\n",
    "    hotness_start_idx = familiarity_start_idx + 1\n",
    "    lyric_start_idx = hotness_start_idx + 1\n",
    "    \n",
    "    return \"{} {}:1 {}:1 {}:{} {}:{} {}:{} {}\\n\".format(\n",
    "        rating,\n",
    "        uid,\n",
    "        sid + song_start_idx,\n",
    "        duration_start_idx, duration,\n",
    "        familiarity_start_idx, familiarity,\n",
    "        hotness_start_idx, hotness,\n",
    "        \" \".join(\"{}:{}\".format(t[0] + lyric_start_idx, t[1]) for t in lyric)\n",
    "    )\n",
    "\n",
    "output_dir = Path('../experiments/metadata_lyrics')\n",
    "output_dir.mkdir(parents=True, exist_ok=True)\n",
    "\n",
    "meta_columns = ['play_count', 'user_id_idx', 'song_id_idx', 'duration', 'artist_familiarity', 'artist_hotttnesss', 'lyrics']\n",
    "\n",
    "train_df = (\n",
    "    train_triplets\n",
    "    .merge(songs, on='song_id')\n",
    "    .merge(lyrics, on=\"song_id\")\n",
    "    .drop(columns=['artist_id'])\n",
    ")\n",
    "print(train_df.shape)\n",
    "test_df = (\n",
    "    test_triplets\n",
    "    .merge(songs, on='song_id')\n",
    "    .merge(lyrics, on=\"song_id\")\n",
    "    .drop(columns=['artist_id'])\n",
    ")\n",
    "print(test_df.shape)\n",
    "\n",
    "# save training data to file\n",
    "with open(output_dir / \"train.libfm\", \"w\") as f:\n",
    "    for rating, uid, sid, duration, familiarity, hotness, lyric, *_ in train_df[meta_columns].itertuples(index=False):\n",
    "        f.write(to_fm_sparse_fmt(rating, uid, sid, duration, familiarity, hotness, lyric))\n",
    "\n",
    "# save test data to file\n",
    "with open(output_dir / \"test.libfm\", \"w\") as f:\n",
    "    for rating, uid, sid, duration, familiarity, hotness, lyric, *_ in test_df[meta_columns].itertuples(index=False):\n",
    "        f.write(to_fm_sparse_fmt(rating, uid, sid, duration, familiarity, hotness, lyric))"
   ]
  },
  {
   "cell_type": "code",
   "execution_count": 20,
   "metadata": {},
   "outputs": [
    {
     "name": "stdout",
     "output_type": "stream",
     "text": [
      "(1935348, 10)\n",
      "(952512, 10)\n"
     ]
    }
   ],
   "source": [
    "from pathlib import Path\n",
    "\n",
    "def to_fm_sparse_fmt(rating, uid, sid, duration, familiarity, hotness, terms, lyric):\n",
    "  # order of features: user, movie, tags\n",
    "    user_start_idx = 0\n",
    "    song_start_idx = n_users\n",
    "    duration_start_idx = song_start_idx + n_songs\n",
    "    familiarity_start_idx = duration_start_idx + 1\n",
    "    hotness_start_idx = familiarity_start_idx + 1\n",
    "    artist_term_start_idx = hotness_start_idx + 1\n",
    "    lyric_start_idx = artist_term_start_idx + n_terms\n",
    "    \n",
    "    return \"{} {}:1 {}:1 {}:{} {}:{} {}:{} {} {}\\n\".format(\n",
    "        rating,\n",
    "        uid,\n",
    "        sid + song_start_idx,\n",
    "        duration_start_idx, duration,\n",
    "        familiarity_start_idx, familiarity,\n",
    "        hotness_start_idx, hotness,\n",
    "        \" \".join(\"{}:1\".format(t + artist_term_start_idx) for t in terms),\n",
    "        \" \".join(\"{}:{}\".format(t[0] + lyric_start_idx, t[1]) for t in lyric)\n",
    "    )\n",
    "\n",
    "output_dir = Path('../experiments/metadata_artist_lyrics')\n",
    "output_dir.mkdir(parents=True, exist_ok=True)\n",
    "\n",
    "meta_columns = ['play_count', 'user_id_idx', 'song_id_idx', 'duration', 'artist_familiarity', 'artist_hotttnesss', 'term_id', 'lyrics']\n",
    "\n",
    "train_df = (\n",
    "    train_triplets\n",
    "    .merge(songs, on='song_id')\n",
    "    .merge(lyrics, on=\"song_id\")\n",
    "    .merge(artist_term, on=\"artist_id\")\n",
    "    .drop(columns=['artist_id'])\n",
    ")\n",
    "print(train_df.shape)\n",
    "test_df = (\n",
    "    test_triplets\n",
    "    .merge(songs, on='song_id')\n",
    "    .merge(lyrics, on=\"song_id\")\n",
    "    .merge(artist_term, on=\"artist_id\")\n",
    "    .drop(columns=['artist_id'])\n",
    ")\n",
    "print(test_df.shape)\n",
    "\n",
    "# save training data to file\n",
    "with open(output_dir / \"train.libfm\", \"w\") as f:\n",
    "    for rating, uid, sid, duration, familiarity, hotness, terms, lyric, *_ in train_df[meta_columns].itertuples(index=False):\n",
    "        f.write(to_fm_sparse_fmt(rating, uid, sid, duration, familiarity, hotness, terms, lyric))\n",
    "\n",
    "# save test data to file\n",
    "with open(output_dir / \"test.libfm\", \"w\") as f:\n",
    "    for rating, uid, sid, duration, familiarity, hotness, terms, lyric, *_ in test_df[meta_columns].itertuples(index=False):\n",
    "        f.write(to_fm_sparse_fmt(rating, uid, sid, duration, familiarity, hotness, terms, lyric))"
   ]
  },
  {
   "cell_type": "code",
   "execution_count": 21,
   "metadata": {},
   "outputs": [
    {
     "data": {
      "text/plain": [
       "(789949, 3)"
      ]
     },
     "execution_count": 21,
     "metadata": {},
     "output_type": "execute_result"
    }
   ],
   "source": [
    "spotify_id = pd.read_csv('./spotify_ids.csv', header=None, sep='|', error_bad_lines=False, warn_bad_lines=False, names=\n",
    "                  ['query', 'spotify_title', 'spotify_artist', 'spotify_album', 'spotify_release', 'spotify_uri', 'track_id']\n",
    "                  )\n",
    "spotify_id = spotify_id.loc[~spotify_id.spotify_uri.isna()]\n",
    "spotify_id = spotify_id.merge(tracks[['track_id', 'song_id']], on='track_id')[['spotify_uri', 'song_id', 'spotify_release']].drop_duplicates()\n",
    "spotify_id.shape"
   ]
  },
  {
   "cell_type": "code",
   "execution_count": 22,
   "metadata": {},
   "outputs": [
    {
     "name": "stdout",
     "output_type": "stream",
     "text": [
      "(790704, 13)\n",
      "(790599, 13)\n"
     ]
    },
    {
     "data": {
      "text/plain": [
       "(790599, 13)"
      ]
     },
     "execution_count": 22,
     "metadata": {},
     "output_type": "execute_result"
    }
   ],
   "source": [
    "audio_features = pd.read_csv(\"./spotify_audio_features.csv\")\n",
    "audio_features = audio_features.add_prefix('spotify_')\n",
    "print(audio_features.shape)\n",
    "audio_features = audio_features.loc[audio_features.spotify_energy!=-1]\n",
    "print(audio_features.shape)\n",
    "audio_features.shape"
   ]
  },
  {
   "cell_type": "code",
   "execution_count": 23,
   "metadata": {},
   "outputs": [
    {
     "name": "stdout",
     "output_type": "stream",
     "text": [
      "789804\n",
      "(789804, 13)\n"
     ]
    },
    {
     "data": {
      "text/plain": [
       "(789804, 2)"
      ]
     },
     "execution_count": 23,
     "metadata": {},
     "output_type": "execute_result"
    }
   ],
   "source": [
    "spotify = spotify_id.merge(audio_features, on=\"spotify_uri\").drop(columns=['spotify_uri', 'spotify_release']).drop_duplicates()\n",
    "spotify = spotify.groupby('song_id').mean().reset_index()\n",
    "print(spotify.song_id.nunique())\n",
    "print(spotify.shape)\n",
    "spotify_cols = [col for col in spotify.columns if col != 'song_id']\n",
    "spotify = pd.melt(spotify, id_vars=['song_id'], value_vars=spotify_cols)\n",
    "spotify = spotify.groupby('song_id')[['variable', 'value']].apply(lambda g: g.values.tolist()).reset_index()\n",
    "spotify.columns = ['song_id', 'spotify']\n",
    "spotify.shape"
   ]
  },
  {
   "cell_type": "code",
   "execution_count": 24,
   "metadata": {},
   "outputs": [
    {
     "name": "stdout",
     "output_type": "stream",
     "text": [
      "(1660601, 11)\n",
      "(818225, 11)\n"
     ]
    }
   ],
   "source": [
    "from pathlib import Path\n",
    "\n",
    "def to_fm_sparse_fmt(rating, uid, sid, duration, familiarity, hotness, terms, lyric, spotify_audio):\n",
    "  # order of features: user, movie, tags\n",
    "    user_start_idx = 0\n",
    "    song_start_idx = n_users\n",
    "    duration_start_idx = song_start_idx + n_songs\n",
    "    familiarity_start_idx = duration_start_idx + 1\n",
    "    hotness_start_idx = familiarity_start_idx + 1\n",
    "    artist_term_start_idx = hotness_start_idx + 1\n",
    "    lyric_start_idx = artist_term_start_idx + n_terms\n",
    "    audio_start_idx = lyric_start_idx + n_lyrics\n",
    "    \n",
    "    return \"{} {}:1 {}:1 {}:{} {}:{} {}:{} {} {} {} \\n\".format(\n",
    "        rating,\n",
    "        uid,\n",
    "        sid + song_start_idx,\n",
    "        duration_start_idx, duration,\n",
    "        familiarity_start_idx, familiarity,\n",
    "        hotness_start_idx, hotness,\n",
    "        \" \".join(\"{}:1\".format(t + artist_term_start_idx) for t in terms),\n",
    "        \" \".join(\"{}:{}\".format(l[0] + lyric_start_idx, l[1]) for l in lyric),\n",
    "        \" \".join(\"{}:{}\".format(spotify_cols.index(s[0]) + audio_start_idx, s[1]) for s in spotify_audio)\n",
    "    )\n",
    "\n",
    "output_dir = Path('../experiments/metadata_artist_lyrics_spotify')\n",
    "output_dir.mkdir(parents=True, exist_ok=True)\n",
    "\n",
    "meta_columns = ['play_count', 'user_id_idx', 'song_id_idx', \n",
    "                'duration', 'artist_familiarity', 'artist_hotttnesss', \n",
    "                'term_id', 'lyrics', 'spotify']\n",
    "\n",
    "train_df = (\n",
    "    train_triplets\n",
    "    .merge(songs, on='song_id')\n",
    "    .merge(lyrics, on=\"song_id\")\n",
    "    .merge(artist_term, on=\"artist_id\")\n",
    "    .merge(spotify, on=\"song_id\")\n",
    "    .drop(columns=['artist_id'])\n",
    ")\n",
    "print(train_df.shape)\n",
    "test_df = (\n",
    "    test_triplets\n",
    "    .merge(songs, on='song_id')\n",
    "    .merge(lyrics, on=\"song_id\")\n",
    "    .merge(artist_term, on=\"artist_id\")\n",
    "    .merge(spotify, on=\"song_id\")\n",
    "    .drop(columns=['artist_id'])\n",
    ")\n",
    "print(test_df.shape)\n",
    "\n",
    "# save training data to file\n",
    "with open(output_dir / \"train.libfm\", \"w\") as f:\n",
    "    for rating, uid, sid, duration, familiarity, hotness, terms, lyric, spotify_audio, *_ in train_df[meta_columns].itertuples(index=False):\n",
    "        f.write(to_fm_sparse_fmt(rating, uid, sid, duration, familiarity, hotness, terms, lyric, spotify_audio))\n",
    "\n",
    "# save test data to file\n",
    "with open(output_dir / \"test.libfm\", \"w\") as f:\n",
    "    for rating, uid, sid, duration, familiarity, hotness, terms, lyric, spotify_audio, *_ in test_df[meta_columns].itertuples(index=False):\n",
    "        f.write(to_fm_sparse_fmt(rating, uid, sid, duration, familiarity, hotness, terms, lyric, spotify_audio))"
   ]
  },
  {
   "cell_type": "code",
   "execution_count": 25,
   "metadata": {},
   "outputs": [
    {
     "name": "stdout",
     "output_type": "stream",
     "text": [
      "(3066608, 9)\n",
      "(1511174, 9)\n"
     ]
    }
   ],
   "source": [
    "from pathlib import Path\n",
    "\n",
    "def to_fm_sparse_fmt(rating, uid, sid, duration, familiarity, hotness, spotify_audio):\n",
    "  # order of features: user, movie, tags\n",
    "    user_start_idx = 0\n",
    "    song_start_idx = n_users\n",
    "    duration_start_idx = song_start_idx + n_songs\n",
    "    familiarity_start_idx = duration_start_idx + 1\n",
    "    hotness_start_idx = familiarity_start_idx + 1\n",
    "    audio_start_idx = hotness_start_idx + 1\n",
    "    \n",
    "    return \"{} {}:1 {}:1 {}:{} {}:{} {}:{} {}\\n\".format(\n",
    "        rating,\n",
    "        uid,\n",
    "        sid + song_start_idx,\n",
    "        duration_start_idx, duration,\n",
    "        familiarity_start_idx, familiarity,\n",
    "        hotness_start_idx, hotness,\n",
    "        \" \".join(\"{}:{}\".format(spotify_cols.index(s[0]) + audio_start_idx, s[1]) for s in spotify_audio)\n",
    "    )\n",
    "\n",
    "output_dir = Path('../experiments/metadata_spotify')\n",
    "output_dir.mkdir(parents=True, exist_ok=True)\n",
    "\n",
    "meta_columns = ['play_count', 'user_id_idx', 'song_id_idx', \n",
    "                'duration', 'artist_familiarity', 'artist_hotttnesss', \n",
    "                'spotify']\n",
    "\n",
    "train_df = (\n",
    "    train_triplets\n",
    "    .merge(songs, on='song_id')\n",
    "    .merge(spotify, on=\"song_id\")\n",
    "    .drop(columns=['artist_id'])\n",
    ")\n",
    "print(train_df.shape)\n",
    "test_df = (\n",
    "    test_triplets\n",
    "    .merge(songs, on='song_id')\n",
    "    .merge(spotify, on=\"song_id\")\n",
    "    .drop(columns=['artist_id'])\n",
    ")\n",
    "print(test_df.shape)\n",
    "\n",
    "# save training data to file\n",
    "with open(output_dir / \"train.libfm\", \"w\") as f:\n",
    "    for rating, uid, sid, duration, familiarity, hotness, spotify_audio, *_ in train_df[meta_columns].itertuples(index=False):\n",
    "        f.write(to_fm_sparse_fmt(rating, uid, sid, duration, familiarity, hotness, spotify_audio))\n",
    "\n",
    "# save test data to file\n",
    "with open(output_dir / \"test.libfm\", \"w\") as f:\n",
    "    for rating, uid, sid, duration, familiarity, hotness, spotify_audio, *_ in test_df[meta_columns].itertuples(index=False):\n",
    "        f.write(to_fm_sparse_fmt(rating, uid, sid, duration, familiarity, hotness, spotify_audio))"
   ]
  },
  {
   "cell_type": "code",
   "execution_count": 26,
   "metadata": {},
   "outputs": [
    {
     "name": "stdout",
     "output_type": "stream",
     "text": [
      "(3048170, 10)\n",
      "(1502028, 10)\n"
     ]
    }
   ],
   "source": [
    "from pathlib import Path\n",
    "\n",
    "def to_fm_sparse_fmt(rating, uid, sid, duration, familiarity, hotness, terms, spotify_audio):\n",
    "  # order of features: user, movie, tags\n",
    "    user_start_idx = 0\n",
    "    song_start_idx = n_users\n",
    "    duration_start_idx = song_start_idx + n_songs\n",
    "    familiarity_start_idx = duration_start_idx + 1\n",
    "    hotness_start_idx = familiarity_start_idx + 1\n",
    "    artist_term_start_idx = hotness_start_idx + 1\n",
    "    audio_start_idx = artist_term_start_idx + n_terms\n",
    "    \n",
    "    return \"{} {}:1 {}:1 {}:{} {}:{} {}:{} {} {}\\n\".format(\n",
    "        rating,\n",
    "        uid,\n",
    "        sid + song_start_idx,\n",
    "        duration_start_idx, duration,\n",
    "        familiarity_start_idx, familiarity,\n",
    "        hotness_start_idx, hotness,\n",
    "        \" \".join(\"{}:1\".format(t + artist_term_start_idx) for t in terms),\n",
    "        \" \".join(\"{}:{}\".format(spotify_cols.index(s[0]) + audio_start_idx, s[1]) for s in spotify_audio)\n",
    "    )\n",
    "\n",
    "output_dir = Path('../experiments/metadata_artist_spotify')\n",
    "output_dir.mkdir(parents=True, exist_ok=True)\n",
    "\n",
    "meta_columns = ['play_count', 'user_id_idx', 'song_id_idx', \n",
    "                'duration', 'artist_familiarity', 'artist_hotttnesss', \n",
    "                'term_id', 'spotify']\n",
    "\n",
    "train_df = (\n",
    "    train_triplets\n",
    "    .merge(songs, on='song_id')\n",
    "    .merge(artist_term, on=\"artist_id\")\n",
    "    .merge(spotify, on=\"song_id\")\n",
    "    .drop(columns=['artist_id'])\n",
    ")\n",
    "print(train_df.shape)\n",
    "test_df = (\n",
    "    test_triplets\n",
    "    .merge(songs, on='song_id')\n",
    "    .merge(artist_term, on=\"artist_id\")\n",
    "    .merge(spotify, on=\"song_id\")\n",
    "    .drop(columns=['artist_id'])\n",
    ")\n",
    "print(test_df.shape)\n",
    "\n",
    "# save training data to file\n",
    "with open(output_dir / \"train.libfm\", \"w\") as f:\n",
    "    for rating, uid, sid, duration, familiarity, hotness, terms, spotify_audio, *_ in train_df[meta_columns].itertuples(index=False):\n",
    "        f.write(to_fm_sparse_fmt(rating, uid, sid, duration, familiarity, hotness, terms, spotify_audio))\n",
    "\n",
    "# save test data to file\n",
    "with open(output_dir / \"test.libfm\", \"w\") as f:\n",
    "    for rating, uid, sid, duration, familiarity, hotness, terms, spotify_audio, *_ in test_df[meta_columns].itertuples(index=False):\n",
    "        f.write(to_fm_sparse_fmt(rating, uid, sid, duration, familiarity, hotness, terms, spotify_audio))"
   ]
  }
 ],
 "metadata": {
  "kernelspec": {
   "display_name": "Python 3",
   "language": "python",
   "name": "python3"
  },
  "language_info": {
   "codemirror_mode": {
    "name": "ipython",
    "version": 3
   },
   "file_extension": ".py",
   "mimetype": "text/x-python",
   "name": "python",
   "nbconvert_exporter": "python",
   "pygments_lexer": "ipython3",
   "version": "3.6.10"
  }
 },
 "nbformat": 4,
 "nbformat_minor": 4
}
