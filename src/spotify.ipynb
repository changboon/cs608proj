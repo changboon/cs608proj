{
 "cells": [
  {
   "cell_type": "code",
   "execution_count": 4,
   "metadata": {},
   "outputs": [],
   "source": [
    "%load_ext autoreload\n",
    "%autoreload 2\n",
    "\n",
    "import credentials\n",
    "import os"
   ]
  },
  {
   "cell_type": "code",
   "execution_count": 8,
   "metadata": {},
   "outputs": [],
   "source": [
    "creds = credentials.load_spotify_creds('../credentials.json')\n",
    "os.environ[\"SPOTIPY_CLIENT_ID\"] = creds['client_id']\n",
    "os.environ[\"SPOTIPY_CLIENT_SECRET\"] = creds['client_secret']"
   ]
  },
  {
   "cell_type": "code",
   "execution_count": 32,
   "metadata": {},
   "outputs": [
    {
     "name": "stdout",
     "output_type": "stream",
     "text": [
      "0 Silent Night spotify:track:3ZqUZpeWJ4norA5nvrE98c\n",
      "{'duration': 253.02667, 'loudness': -4.893, 'tempo': 174.04, 'tempo_confidence': 0.6, 'time_signature': 4, 'time_signature_confidence': 1.0, 'key': 0, 'key_confidence': 1.0, 'mode': 1, 'mode_confidence': 0.783}\n",
      "[{'danceability': 0.453, 'energy': 0.915, 'key': 0, 'loudness': -4.893, 'mode': 1, 'speechiness': 0.0354, 'acousticness': 5.13e-06, 'instrumentalness': 0.631, 'liveness': 0.119, 'valence': 0.66, 'tempo': 174.04, 'type': 'audio_features', 'id': '3ZqUZpeWJ4norA5nvrE98c', 'uri': 'spotify:track:3ZqUZpeWJ4norA5nvrE98c', 'track_href': 'https://api.spotify.com/v1/tracks/3ZqUZpeWJ4norA5nvrE98c', 'analysis_url': 'https://api.spotify.com/v1/audio-analysis/3ZqUZpeWJ4norA5nvrE98c', 'duration_ms': 253027, 'time_signature': 4}]\n"
     ]
    }
   ],
   "source": [
    "import spotipy\n",
    "from spotipy.oauth2 import SpotifyClientCredentials\n",
    "\n",
    "sp = spotipy.Spotify(auth_manager=SpotifyClientCredentials(), requests_timeout=10)\n",
    "\n",
    "# query string should be song title + song artist\n",
    "results = sp.search(q='Silent Night Faster Pussycat', limit=20)\n",
    "for idx, track in enumerate(results['tracks']['items']):\n",
    "    print(idx, track['name'], track['uri'])\n",
    "    \n",
    "    # TODO: add track['uri'] to list to run below jobs as batch. unclear about upper limit of each batch size\n",
    "    analysis = sp.audio_analysis(track['uri']) # this can be batched to reduce api hits\n",
    "    audio_analysis_features = ['duration', 'loudness', 'tempo', 'tempo_confidence',\n",
    "                               'time_signature', 'time_signature_confidence', 'key',\n",
    "                                'key_confidence', 'mode', 'mode_confidence'\n",
    "                              ]\n",
    "    print({feature: analysis['track'].get(feature) for feature in audio_analysis_features})\n",
    "    \n",
    "    audio_features = sp.audio_features(track['uri']) # this can be batched to reduce api hits\n",
    "    print(audio_features)"
   ]
  }
 ],
 "metadata": {
  "kernelspec": {
   "display_name": "Python 3",
   "language": "python",
   "name": "python3"
  },
  "language_info": {
   "codemirror_mode": {
    "name": "ipython",
    "version": 3
   },
   "file_extension": ".py",
   "mimetype": "text/x-python",
   "name": "python",
   "nbconvert_exporter": "python",
   "pygments_lexer": "ipython3",
   "version": "3.6.10"
  }
 },
 "nbformat": 4,
 "nbformat_minor": 4
}
