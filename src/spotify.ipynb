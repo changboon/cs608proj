{
 "cells": [
  {
   "cell_type": "code",
   "execution_count": 3,
   "metadata": {},
   "outputs": [
    {
     "name": "stdout",
     "output_type": "stream",
     "text": [
      "The autoreload extension is already loaded. To reload it, use:\n",
      "  %reload_ext autoreload\n"
     ]
    }
   ],
   "source": [
    "%load_ext autoreload\n",
    "%autoreload 2\n",
    "\n",
    "import crud as crud\n",
    "import spotify"
   ]
  },
  {
   "cell_type": "code",
   "execution_count": 4,
   "metadata": {},
   "outputs": [],
   "source": [
    "sp = spotify.load_and_auth_spotify('../credentials.json')"
   ]
  },
  {
   "cell_type": "code",
   "execution_count": null,
   "metadata": {},
   "outputs": [
    {
     "name": "stdout",
     "output_type": "stream",
     "text": [
      "songs\n"
     ]
    }
   ],
   "source": [
    "conn = crud.create_connection(\"../db/track_metadata.db\")\n",
    "tables = crud.get_tables(conn)\n",
    "\n",
    "for table_name in tables.name.tolist():\n",
    "    print(table_name)\n",
    "    records = crud.get_records(conn, table_name)\n",
    "    record_features = ['track_id', 'title', 'song_id', 'release', \n",
    "                       'artist_id', 'artist_mbid', 'artist_name', \n",
    "                       'year', 'artist_familiarity', 'artist_hotttnesss',\n",
    "                       'query'\n",
    "                      ]\n",
    "uri = [spotify.get_spotify_uri(sp, row) for index, row in records.iterrows()]"
   ]
  },
  {
   "cell_type": "code",
   "execution_count": null,
   "metadata": {},
   "outputs": [],
   "source": [
    "len(uri)"
   ]
  },
  {
   "cell_type": "code",
   "execution_count": 11,
   "metadata": {},
   "outputs": [
    {
     "data": {
      "text/html": [
       "<div>\n",
       "<style scoped>\n",
       "    .dataframe tbody tr th:only-of-type {\n",
       "        vertical-align: middle;\n",
       "    }\n",
       "\n",
       "    .dataframe tbody tr th {\n",
       "        vertical-align: top;\n",
       "    }\n",
       "\n",
       "    .dataframe thead th {\n",
       "        text-align: right;\n",
       "    }\n",
       "</style>\n",
       "<table border=\"1\" class=\"dataframe\">\n",
       "  <thead>\n",
       "    <tr style=\"text-align: right;\">\n",
       "      <th></th>\n",
       "      <th>track_id</th>\n",
       "      <th>title</th>\n",
       "      <th>song_id</th>\n",
       "      <th>release</th>\n",
       "      <th>artist_id</th>\n",
       "      <th>artist_mbid</th>\n",
       "      <th>artist_name</th>\n",
       "      <th>duration</th>\n",
       "      <th>artist_familiarity</th>\n",
       "      <th>artist_hotttnesss</th>\n",
       "      <th>year</th>\n",
       "      <th>track_7digitalid</th>\n",
       "      <th>shs_perf</th>\n",
       "      <th>shs_work</th>\n",
       "      <th>query</th>\n",
       "    </tr>\n",
       "  </thead>\n",
       "  <tbody>\n",
       "    <tr>\n",
       "      <th>0</th>\n",
       "      <td>TRMMMYQ128F932D901</td>\n",
       "      <td>Silent Night</td>\n",
       "      <td>SOQMMHC12AB0180CB8</td>\n",
       "      <td>Monster Ballads X-Mas</td>\n",
       "      <td>ARYZTJS1187B98C555</td>\n",
       "      <td>357ff05d-848a-44cf-b608-cb34b5701ae5</td>\n",
       "      <td>Faster Pussy cat</td>\n",
       "      <td>252.05506</td>\n",
       "      <td>0.649822</td>\n",
       "      <td>0.394032</td>\n",
       "      <td>2003</td>\n",
       "      <td>7032331</td>\n",
       "      <td>-1</td>\n",
       "      <td>0</td>\n",
       "      <td>Silent Night Monster Ballads X-Mas</td>\n",
       "    </tr>\n",
       "    <tr>\n",
       "      <th>1</th>\n",
       "      <td>TRMMMKD128F425225D</td>\n",
       "      <td>Tanssi vaan</td>\n",
       "      <td>SOVFVAK12A8C1350D9</td>\n",
       "      <td>Karkuteillä</td>\n",
       "      <td>ARMVN3U1187FB3A1EB</td>\n",
       "      <td>8d7ef530-a6fd-4f8f-b2e2-74aec765e0f9</td>\n",
       "      <td>Karkkiautomaatti</td>\n",
       "      <td>156.55138</td>\n",
       "      <td>0.439604</td>\n",
       "      <td>0.356992</td>\n",
       "      <td>1995</td>\n",
       "      <td>1514808</td>\n",
       "      <td>-1</td>\n",
       "      <td>0</td>\n",
       "      <td>Tanssi vaan Karkuteillä</td>\n",
       "    </tr>\n",
       "    <tr>\n",
       "      <th>2</th>\n",
       "      <td>TRMMMRX128F93187D9</td>\n",
       "      <td>No One Could Ever</td>\n",
       "      <td>SOGTUKN12AB017F4F1</td>\n",
       "      <td>Butter</td>\n",
       "      <td>ARGEKB01187FB50750</td>\n",
       "      <td>3d403d44-36ce-465c-ad43-ae877e65adc4</td>\n",
       "      <td>Hudson Mohawke</td>\n",
       "      <td>138.97098</td>\n",
       "      <td>0.643681</td>\n",
       "      <td>0.437504</td>\n",
       "      <td>2006</td>\n",
       "      <td>6945353</td>\n",
       "      <td>-1</td>\n",
       "      <td>0</td>\n",
       "      <td>No One Could Ever Butter</td>\n",
       "    </tr>\n",
       "    <tr>\n",
       "      <th>3</th>\n",
       "      <td>TRMMMCH128F425532C</td>\n",
       "      <td>Si Vos Querés</td>\n",
       "      <td>SOBNYVR12A8C13558C</td>\n",
       "      <td>De Culo</td>\n",
       "      <td>ARNWYLR1187B9B2F9C</td>\n",
       "      <td>12be7648-7094-495f-90e6-df4189d68615</td>\n",
       "      <td>Yerba Brava</td>\n",
       "      <td>145.05751</td>\n",
       "      <td>0.448501</td>\n",
       "      <td>0.372349</td>\n",
       "      <td>2003</td>\n",
       "      <td>2168257</td>\n",
       "      <td>-1</td>\n",
       "      <td>0</td>\n",
       "      <td>Si Vos Querés De Culo</td>\n",
       "    </tr>\n",
       "    <tr>\n",
       "      <th>4</th>\n",
       "      <td>TRMMMWA128F426B589</td>\n",
       "      <td>Tangle Of Aspens</td>\n",
       "      <td>SOHSBXH12A8C13B0DF</td>\n",
       "      <td>Rene Ablaze Presents Winter Sessions</td>\n",
       "      <td>AREQDTE1269FB37231</td>\n",
       "      <td></td>\n",
       "      <td>Der Mystic</td>\n",
       "      <td>514.29832</td>\n",
       "      <td>0.000000</td>\n",
       "      <td>0.000000</td>\n",
       "      <td>0</td>\n",
       "      <td>2264873</td>\n",
       "      <td>-1</td>\n",
       "      <td>0</td>\n",
       "      <td>Tangle Of Aspens Rene Ablaze Presents Winter S...</td>\n",
       "    </tr>\n",
       "  </tbody>\n",
       "</table>\n",
       "</div>"
      ],
      "text/plain": [
       "             track_id              title             song_id  \\\n",
       "0  TRMMMYQ128F932D901       Silent Night  SOQMMHC12AB0180CB8   \n",
       "1  TRMMMKD128F425225D        Tanssi vaan  SOVFVAK12A8C1350D9   \n",
       "2  TRMMMRX128F93187D9  No One Could Ever  SOGTUKN12AB017F4F1   \n",
       "3  TRMMMCH128F425532C      Si Vos Querés  SOBNYVR12A8C13558C   \n",
       "4  TRMMMWA128F426B589   Tangle Of Aspens  SOHSBXH12A8C13B0DF   \n",
       "\n",
       "                                release           artist_id  \\\n",
       "0                 Monster Ballads X-Mas  ARYZTJS1187B98C555   \n",
       "1                           Karkuteillä  ARMVN3U1187FB3A1EB   \n",
       "2                                Butter  ARGEKB01187FB50750   \n",
       "3                               De Culo  ARNWYLR1187B9B2F9C   \n",
       "4  Rene Ablaze Presents Winter Sessions  AREQDTE1269FB37231   \n",
       "\n",
       "                            artist_mbid       artist_name   duration  \\\n",
       "0  357ff05d-848a-44cf-b608-cb34b5701ae5  Faster Pussy cat  252.05506   \n",
       "1  8d7ef530-a6fd-4f8f-b2e2-74aec765e0f9  Karkkiautomaatti  156.55138   \n",
       "2  3d403d44-36ce-465c-ad43-ae877e65adc4    Hudson Mohawke  138.97098   \n",
       "3  12be7648-7094-495f-90e6-df4189d68615       Yerba Brava  145.05751   \n",
       "4                                              Der Mystic  514.29832   \n",
       "\n",
       "   artist_familiarity  artist_hotttnesss  year  track_7digitalid  shs_perf  \\\n",
       "0            0.649822           0.394032  2003           7032331        -1   \n",
       "1            0.439604           0.356992  1995           1514808        -1   \n",
       "2            0.643681           0.437504  2006           6945353        -1   \n",
       "3            0.448501           0.372349  2003           2168257        -1   \n",
       "4            0.000000           0.000000     0           2264873        -1   \n",
       "\n",
       "   shs_work                                              query  \n",
       "0         0                 Silent Night Monster Ballads X-Mas  \n",
       "1         0                            Tanssi vaan Karkuteillä  \n",
       "2         0                           No One Could Ever Butter  \n",
       "3         0                              Si Vos Querés De Culo  \n",
       "4         0  Tangle Of Aspens Rene Ablaze Presents Winter S...  "
      ]
     },
     "execution_count": 11,
     "metadata": {},
     "output_type": "execute_result"
    }
   ],
   "source": [
    "records.head()"
   ]
  },
  {
   "cell_type": "code",
   "execution_count": 27,
   "metadata": {},
   "outputs": [
    {
     "data": {
      "text/plain": [
       "{'uri': None,\n",
       " 'duration': 253.02667,\n",
       " 'loudness': -4.893,\n",
       " 'tempo': 174.04,\n",
       " 'tempo_confidence': 0.6,\n",
       " 'time_signature': 4,\n",
       " 'time_signature_confidence': 1.0,\n",
       " 'key': 0,\n",
       " 'key_confidence': 1.0,\n",
       " 'mode': 1,\n",
       " 'mode_confidence': 0.783}"
      ]
     },
     "execution_count": 27,
     "metadata": {},
     "output_type": "execute_result"
    }
   ],
   "source": [
    "spotify.get_audio_analysis(sp, uri[0]['uri'])"
   ]
  },
  {
   "cell_type": "code",
   "execution_count": 51,
   "metadata": {},
   "outputs": [
    {
     "name": "stdout",
     "output_type": "stream",
     "text": [
      "[{'danceability': 0.453, 'energy': 0.915, 'key': 0, 'loudness': -4.893, 'mode': 1, 'speechiness': 0.0354, 'acousticness': 5.13e-06, 'instrumentalness': 0.631, 'liveness': 0.119, 'valence': 0.66, 'tempo': 174.04, 'type': 'audio_features', 'id': '3ZqUZpeWJ4norA5nvrE98c', 'uri': 'spotify:track:3ZqUZpeWJ4norA5nvrE98c', 'track_href': 'https://api.spotify.com/v1/tracks/3ZqUZpeWJ4norA5nvrE98c', 'analysis_url': 'https://api.spotify.com/v1/audio-analysis/3ZqUZpeWJ4norA5nvrE98c', 'duration_ms': 253027, 'time_signature': 4}]\n"
     ]
    },
    {
     "data": {
      "text/plain": [
       "[{'uri': 'spotify:track:3ZqUZpeWJ4norA5nvrE98c',\n",
       "  'danceability': 0.453,\n",
       "  'energy': 0.915,\n",
       "  'key': 0,\n",
       "  'loudness': -4.893,\n",
       "  'mode': 1,\n",
       "  'speechiness': 0.0354,\n",
       "  'acousticness': 5.13e-06,\n",
       "  'instrumentalness': 0.631,\n",
       "  'liveness': 0.119,\n",
       "  'valence': 0.66,\n",
       "  'tempo': 174.04}]"
      ]
     },
     "execution_count": 51,
     "metadata": {},
     "output_type": "execute_result"
    }
   ],
   "source": [
    "spotify.get_audio_features([uri[0]['uri'], uri[1]['uri']])"
   ]
  },
  {
   "cell_type": "code",
   "execution_count": 7,
   "metadata": {},
   "outputs": [
    {
     "name": "stdout",
     "output_type": "stream",
     "text": [
      "0 Silent Night spotify:track:3ZqUZpeWJ4norA5nvrE98c\n",
      "{'duration': 253.02667, 'loudness': -4.893, 'tempo': 174.04, 'tempo_confidence': 0.6, 'time_signature': 4, 'time_signature_confidence': 1.0, 'key': 0, 'key_confidence': 1.0, 'mode': 1, 'mode_confidence': 0.783}\n",
      "[{'danceability': 0.453, 'energy': 0.915, 'key': 0, 'loudness': -4.893, 'mode': 1, 'speechiness': 0.0354, 'acousticness': 5.13e-06, 'instrumentalness': 0.631, 'liveness': 0.119, 'valence': 0.66, 'tempo': 174.04, 'type': 'audio_features', 'id': '3ZqUZpeWJ4norA5nvrE98c', 'uri': 'spotify:track:3ZqUZpeWJ4norA5nvrE98c', 'track_href': 'https://api.spotify.com/v1/tracks/3ZqUZpeWJ4norA5nvrE98c', 'analysis_url': 'https://api.spotify.com/v1/audio-analysis/3ZqUZpeWJ4norA5nvrE98c', 'duration_ms': 253027, 'time_signature': 4}]\n"
     ]
    }
   ],
   "source": [
    "# query string should be song title + song artist\n",
    "results = sp.search(q='Silent Night Monster Ballads X-Mas', limit=1)\n",
    "for idx, track in enumerate(results['tracks']['items']):\n",
    "    print(idx, track['name'], track['uri'])\n",
    "    \n",
    "    # TODO: add track['uri'] to list to run below jobs as batch. unclear about upper limit of each batch size\n",
    "    analysis = sp.audio_analysis(track['uri']) # this can be batched to reduce api hits\n",
    "    audio_analysis_features = ['uri', 'duration', 'loudness', 'tempo', 'tempo_confidence',\n",
    "                               'time_signature', 'time_signature_confidence', 'key',\n",
    "                                'key_confidence', 'mode', 'mode_confidence'\n",
    "                              ]\n",
    "    print({feature: analysis['track'].get(feature) for feature in audio_analysis_features})\n",
    "    \n",
    "    audio_features = sp.audio_features(track['uri']) # this can be batched to reduce api hits\n",
    "    audio_features_features = ['uri', 'danceability', 'energy', 'key', 'loudness', 'mode', \n",
    "                               'speechiness', 'acousticness', 'instrumentalness', \n",
    "                               'liveness', 'valence', 'tempo'\n",
    "                              ]\n",
    "    print(audio_features)"
   ]
  }
 ],
 "metadata": {
  "kernelspec": {
   "display_name": "Python 3",
   "language": "python",
   "name": "python3"
  },
  "language_info": {
   "codemirror_mode": {
    "name": "ipython",
    "version": 3
   },
   "file_extension": ".py",
   "mimetype": "text/x-python",
   "name": "python",
   "nbconvert_exporter": "python",
   "pygments_lexer": "ipython3",
   "version": "3.6.10"
  }
 },
 "nbformat": 4,
 "nbformat_minor": 4
}
