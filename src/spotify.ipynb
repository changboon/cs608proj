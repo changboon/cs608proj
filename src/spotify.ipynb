{
 "cells": [
  {
   "cell_type": "code",
   "execution_count": 4,
   "metadata": {},
   "outputs": [],
   "source": [
    "%load_ext autoreload\n",
    "%autoreload 2\n",
    "\n",
    "import credentials\n",
    "import os"
   ]
  },
  {
   "cell_type": "code",
   "execution_count": 8,
   "metadata": {},
   "outputs": [],
   "source": [
    "creds = credentials.load_spotify_creds('../credentials.json')\n",
    "os.environ[\"SPOTIPY_CLIENT_ID\"] = creds['client_id']\n",
    "os.environ[\"SPOTIPY_CLIENT_SECRET\"] = creds['client_secret']"
   ]
  },
  {
   "cell_type": "code",
   "execution_count": 9,
   "metadata": {},
   "outputs": [
    {
     "name": "stdout",
     "output_type": "stream",
     "text": [
      "0 Island In The Sun\n",
      "1 Say It Ain't So\n",
      "2 Buddy Holly\n",
      "3 Beverly Hills\n",
      "4 Lost in the Woods - Weezer Version\n",
      "5 Undone - The Sweater Song\n",
      "6 Africa\n",
      "7 Hash Pipe\n",
      "8 Hero\n",
      "9 My Name Is Jonas\n",
      "10 Feels Like Summer\n",
      "11 Pork And Beans\n",
      "12 Take on Me\n",
      "13 El Scorcho\n",
      "14 Perfect Situation\n",
      "15 Everybody Wants to Rule the World\n",
      "16 Only In Dreams\n",
      "17 The End of the Game\n",
      "18 Mr. Blue Sky\n",
      "19 Pacific Coast Highway In The Movies (feat. Rivers Cuomo of Weezer)\n"
     ]
    }
   ],
   "source": [
    "import spotipy\n",
    "from spotipy.oauth2 import SpotifyClientCredentials\n",
    "\n",
    "sp = spotipy.Spotify(auth_manager=SpotifyClientCredentials())\n",
    "\n",
    "results = sp.search(q='weezer', limit=20)\n",
    "for idx, track in enumerate(results['tracks']['items']):\n",
    "    print(idx, track['name'])"
   ]
  }
 ],
 "metadata": {
  "kernelspec": {
   "display_name": "Python 3",
   "language": "python",
   "name": "python3"
  },
  "language_info": {
   "codemirror_mode": {
    "name": "ipython",
    "version": 3
   },
   "file_extension": ".py",
   "mimetype": "text/x-python",
   "name": "python",
   "nbconvert_exporter": "python",
   "pygments_lexer": "ipython3",
   "version": "3.6.10"
  }
 },
 "nbformat": 4,
 "nbformat_minor": 4
}
